{
  "nbformat": 4,
  "nbformat_minor": 0,
  "metadata": {
    "colab": {
      "provenance": []
    },
    "kernelspec": {
      "name": "ir",
      "display_name": "R"
    },
    "language_info": {
      "name": "R"
    }
  },
  "cells": [
    {
      "cell_type": "code",
      "execution_count": null,
      "metadata": {
        "id": "xPw3XIE-rr0r"
      },
      "outputs": [],
      "source": [
        "# Define the function\n",
        "f <- function(x) {\n",
        "  x^2 - 2\n",
        "}\n",
        "\n",
        "# Define the derivative of the function\n",
        "f_prime <- function(x) {\n",
        "\n",
        "  2 * x\n",
        "}\n",
        "\n",
        "# Initial guess for the root\n",
        "x <- 3\n",
        "\n",
        "# Maximum number of iterations\n",
        "max_iter <- 40\n",
        "\n",
        "# Tolerance level for convergence\n",
        "tol <- 1e-6"
      ]
    },
    {
      "cell_type": "code",
      "source": [
        "# Iteration loop\n",
        "for (i in 1:max_iter) {\n",
        "  # Calculate the function value and its derivative at the current guess\n",
        "  fx <- f(x)\n",
        "  fpx <- f_prime(x)\n",
        "\n",
        "  # Check for division by zero (derivative cannot be zero)\n",
        "  if (abs(fpx) < tol) {\n",
        "    stop(\"Derivative is zero, method may not converge.\")\n",
        "  }\n",
        "\n",
        "  # Update the guess\n",
        "  x_new <- x - fx / fpx\n",
        "\n",
        "  # Print current iteration and estimated root\n",
        "  cat(\"Iteration:\", i, \", Estimated root:\", x_new, \"\\n\")\n",
        "\n",
        "  # Check for convergence (absolute difference between new and old guess is less than tolerance)\n",
        "  if (abs(x_new - x) < tol) {\n",
        "    cat(\"Root found approximately at:\", x_new, \"\\n\")\n",
        "    break\n",
        "  }\n",
        "\n",
        "  # Update x for the next iteration\n",
        "  x <- x_new\n",
        "}\n",
        "\n",
        "# If loop completes without convergence\n",
        "if (i == max_iter) {\n",
        "  cat(\"Maximum iterations reached, convergence not achieved.\\n\")\n",
        "}\n"
      ],
      "metadata": {
        "colab": {
          "base_uri": "https://localhost:8080/"
        },
        "id": "Zxdh-eXxzn6K",
        "outputId": "0af21fc3-ff91-479d-ed1d-d139391ee5a2"
      },
      "execution_count": null,
      "outputs": [
        {
          "output_type": "stream",
          "name": "stdout",
          "text": [
            "Iteration: 1 , Estimated root: 1.833333 \n",
            "Iteration: 2 , Estimated root: 1.462121 \n",
            "Iteration: 3 , Estimated root: 1.414998 \n",
            "Iteration: 4 , Estimated root: 1.414214 \n",
            "Iteration: 5 , Estimated root: 1.414214 \n",
            "Root found approximately at: 1.414214 \n"
          ]
        }
      ]
    }
  ]
}