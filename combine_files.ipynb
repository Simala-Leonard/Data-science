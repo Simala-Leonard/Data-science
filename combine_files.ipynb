{
  "cells": [
    {
      "cell_type": "code",
      "execution_count": null,
      "metadata": {
        "colab": {
          "base_uri": "https://localhost:8080/"
        },
        "id": "-TmS-mEXZVr7",
        "outputId": "a230c952-71ba-40aa-e7a5-eea487ddd099"
      },
      "outputs": [
        {
          "output_type": "stream",
          "name": "stdout",
          "text": [
            "All files combined successfully!\n"
          ]
        }
      ],
      "source": [
        "import pandas as pd\n",
        "import glob\n",
        "import os\n",
        "\n",
        "# Directory containing the Excel files\n",
        "excel_directory = \"/content/drive/MyDrive/FoodProducts\"\n",
        "new_combined_df_name = \"combined_food_products.csv\"\n",
        "\n",
        "# Get a list of all Excel files in the directory\n",
        "excel_files = glob.glob(os.path.join(excel_directory, \"*.xlsx\"))\n",
        "\n",
        "# Initialize an empty list to store DataFrames\n",
        "dfs = []\n",
        "\n",
        "# Loop through the list of Excel files\n",
        "for file in excel_files:\n",
        "    # Read the sheet named 'Partner' from each Excel file\n",
        "    df = pd.read_excel(file, sheet_name='Partner')\n",
        "    # Append the DataFrame to the list\n",
        "    dfs.append(df)\n",
        "\n",
        "# Concatenate all the DataFrames in the list into a single DataFrame\n",
        "combined_df = pd.concat(dfs, ignore_index=True)\n",
        "\n",
        "# Save the combined DataFrame to a CSV file\n",
        "combined_df.to_csv(new_combined_df_name, index=False)\n",
        "\n",
        "print(\"All files combined successfully!\")\n"
      ]
    },
    {
      "cell_type": "code",
      "source": [
        "from google.colab import drive\n",
        "drive.mount('/content/drive')"
      ],
      "metadata": {
        "colab": {
          "base_uri": "https://localhost:8080/"
        },
        "id": "T6MOQoRvc6bk",
        "outputId": "1f53cb55-d75d-4922-ab0c-9d504e843eb4"
      },
      "execution_count": null,
      "outputs": [
        {
          "output_type": "stream",
          "name": "stdout",
          "text": [
            "Mounted at /content/drive\n"
          ]
        }
      ]
    }
  ],
  "metadata": {
    "kernelspec": {
      "display_name": "base",
      "language": "python",
      "name": "python3"
    },
    "language_info": {
      "codemirror_mode": {
        "name": "ipython",
        "version": 3
      },
      "file_extension": ".py",
      "mimetype": "text/x-python",
      "name": "python",
      "nbconvert_exporter": "python",
      "pygments_lexer": "ipython3",
      "version": "3.11.5"
    },
    "colab": {
      "provenance": []
    }
  },
  "nbformat": 4,
  "nbformat_minor": 0
}